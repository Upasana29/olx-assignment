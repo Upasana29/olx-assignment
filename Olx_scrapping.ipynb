{
 "cells": [
  {
   "cell_type": "code",
   "execution_count": 10,
   "metadata": {},
   "outputs": [
    {
     "name": "stdout",
     "output_type": "stream",
     "text": [
      "                                               Title          Price  \\\n",
      "0  2BHK 896Sq. ft. flat with covered car parking,...    ₹ 36,00,000   \n",
      "1  Car body cover available in wholesale market p...          ₹ 500   \n",
      "2  2022, 9450 kits, Leather seat cover, SUB woofe...    ₹ 12,50,000   \n",
      "3                                      i10 car cover          ₹ 600   \n",
      "4  2bhk flat rent all amnites soc car parking cov...       ₹ 22,000   \n",
      "5  kist completed Car condition good new seat cov...     ₹ 3,50,000   \n",
      "6    Spacious 2BHK with covered car parking for rent       ₹ 18,000   \n",
      "7  2bhk flat sale 70 lakh car parking covered Dat...    ₹ 70,00,000   \n",
      "8  Newly built house with covered car park( veget...       ₹ 22,000   \n",
      "9    Large Size 3 bhk with cover Car parking at NIBM  ₹ 1,50,00,000   \n",
      "\n",
      "                              Location  \n",
      "0                  TOLLYGUNGE, KOLKATA  \n",
      "1                   PERIYAMET, CHENNAI  \n",
      "2                  KANJIKODE, PALAKKAD  \n",
      "3                    HEBBAL, BENGALURU  \n",
      "4                       AMBEGAON, PUNE  \n",
      "5               TILAPTA, GREATER NOIDA  \n",
      "6                  MEDAVAKKAM, CHENNAI  \n",
      "7                         KATRAJ, PUNE  \n",
      "8  KORATTUR KUPPU REDDY NAGAR, CHENNAI  \n",
      "9              NIBM ROAD KONDHWA, PUNE  \n",
      "✅ Scraping complete! Saved to olx_car_cover_results.csv\n"
     ]
    }
   ],
   "source": [
    "from selenium import webdriver\n",
    "from selenium.webdriver.common.by import By\n",
    "from selenium.webdriver.chrome.service import Service\n",
    "from selenium.webdriver.support.ui import WebDriverWait\n",
    "from selenium.webdriver.support import expected_conditions as EC\n",
    "from webdriver_manager.chrome import ChromeDriverManager\n",
    "import pandas as pd\n",
    "import time\n",
    "\n",
    "# Start Chrome\n",
    "driver = webdriver.Chrome(service=Service(ChromeDriverManager().install()))\n",
    "driver.maximize_window()\n",
    "\n",
    "driver.get(\"https://www.olx.in/items/q-car-cover\")\n",
    "\n",
    "# Wait until ads load\n",
    "WebDriverWait(driver, 20).until(\n",
    "    EC.presence_of_element_located((By.CSS_SELECTOR, \"li[data-aut-id^='itemBox']\"))\n",
    ")\n",
    "\n",
    "# Scroll to load more ads\n",
    "for _ in range(5):\n",
    "    driver.execute_script(\"window.scrollTo(0, document.body.scrollHeight);\")\n",
    "    time.sleep(3)\n",
    "\n",
    "titles, prices, locations = [], [], []\n",
    "\n",
    "# Grab all ad cards\n",
    "ads = driver.find_elements(By.CSS_SELECTOR, \"li[data-aut-id^='itemBox']\")\n",
    "\n",
    "for ad in ads:\n",
    "    try:\n",
    "        title = ad.find_element(By.CSS_SELECTOR, \"span[data-aut-id='itemTitle']\").text.strip()\n",
    "    except:\n",
    "        title = \"\"\n",
    "    try:\n",
    "        price = ad.find_element(By.CSS_SELECTOR, \"span[data-aut-id='itemPrice']\").text.strip()\n",
    "    except:\n",
    "        price = \"\"\n",
    "    try:\n",
    "        location = ad.find_element(By.CSS_SELECTOR, \"span[data-aut-id='item-location']\").text.strip()\n",
    "    except:\n",
    "        location = \"\"\n",
    "\n",
    "    if title and price:\n",
    "        titles.append(title)\n",
    "        prices.append(price)\n",
    "        locations.append(location)\n",
    "\n",
    "# Save to CSV\n",
    "df = pd.DataFrame({\"Title\": titles, \"Price\": prices, \"Location\": locations})\n",
    "df.to_csv(\"olx_car_cover_results.csv\", index=False)\n",
    "\n",
    "print(df.head(10))\n",
    "driver.quit()\n",
    "print(\"✅ Scraping complete! Saved to olx_car_cover_results.csv\")\n"
   ]
  },
  {
   "cell_type": "code",
   "execution_count": null,
   "metadata": {},
   "outputs": [],
   "source": []
  }
 ],
 "metadata": {
  "kernelspec": {
   "display_name": "Python 3",
   "language": "python",
   "name": "python3"
  },
  "language_info": {
   "codemirror_mode": {
    "name": "ipython",
    "version": 3
   },
   "file_extension": ".py",
   "mimetype": "text/x-python",
   "name": "python",
   "nbconvert_exporter": "python",
   "pygments_lexer": "ipython3",
   "version": "3.8.5"
  }
 },
 "nbformat": 4,
 "nbformat_minor": 4
}
